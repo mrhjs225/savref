{
 "cells": [
  {
   "cell_type": "code",
   "execution_count": 3,
   "metadata": {},
   "outputs": [
    {
     "name": "stdout",
     "output_type": "stream",
     "text": [
      "데이터셋 로드 완료: ../dataset/avr_dataset.pkl\n"
     ]
    }
   ],
   "source": [
    "# read avr_dataset.pkl\n",
    "import pickle\n",
    "from pathlib import Path\n",
    "\n",
    "# 데이터셋 파일 경로 설정\n",
    "dataset_file_path = Path('../dataset/avr_dataset.pkl')\n",
    "\n",
    "# pickle 파일 읽기\n",
    "try:\n",
    "    with open(dataset_file_path, 'rb') as f:\n",
    "        raw_dataset_data = pickle.load(f)\n",
    "    print(f\"데이터셋 로드 완료: {dataset_file_path}\")\n",
    "    # 로드된 데이터의 타입이나 일부 정보를 출력하여 확인 가능\n",
    "    # print(f\"로드된 데이터 타입: {type(raw_dataset_data)}\")\n",
    "    # if isinstance(raw_dataset_data, list):\n",
    "    #     print(f\"항목 수: {len(raw_dataset_data)}\")\n",
    "    # elif isinstance(raw_dataset_data, dict):\n",
    "    #     print(f\"키 수: {len(raw_dataset_data)}\")\n",
    "\n",
    "except FileNotFoundError:\n",
    "    print(f\"오류: 데이터셋 파일을 찾을 수 없습니다 - {dataset_file_path}\")\n",
    "except Exception as e:\n",
    "    print(f\"데이터셋 로드 중 오류 발생: {e}\")\n",
    "\n",
    "# 로드된 데이터는 'raw_dataset_data' 변수에 저장됩니다.\n"
   ]
  },
  {
   "cell_type": "code",
   "execution_count": 8,
   "metadata": {},
   "outputs": [
    {
     "data": {
      "text/plain": [
       "'The product acts as an intermediary HTTP agent (such as a proxy or firewall) in the data flow between two entities such as a client and server, but it does not interpret malformed HTTP requests or responses in ways that are consistent with how the messages will be processed by those entities that are at the ultimate destination.'"
      ]
     },
     "execution_count": 8,
     "metadata": {},
     "output_type": "execute_result"
    }
   ],
   "source": [
    "# print first row in raw_dataset_data dataframe\n",
    "raw_dataset_data.iloc[0]['Description']"
   ]
  },
  {
   "cell_type": "code",
   "execution_count": null,
   "metadata": {},
   "outputs": [],
   "source": []
  }
 ],
 "metadata": {
  "kernelspec": {
   "display_name": "savref",
   "language": "python",
   "name": "python3"
  },
  "language_info": {
   "codemirror_mode": {
    "name": "ipython",
    "version": 3
   },
   "file_extension": ".py",
   "mimetype": "text/x-python",
   "name": "python",
   "nbconvert_exporter": "python",
   "pygments_lexer": "ipython3",
   "version": "3.11.11"
  }
 },
 "nbformat": 4,
 "nbformat_minor": 2
}
